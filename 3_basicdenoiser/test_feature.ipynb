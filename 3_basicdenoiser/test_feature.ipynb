{
 "cells": [
  {
   "cell_type": "code",
   "execution_count": 1,
   "metadata": {
    "metadata": {}
   },
   "outputs": [
    {
     "name": "stderr",
     "output_type": "stream",
     "text": [
      "2024-07-24 13:42:01 | WARNING | xformers | WARNING[XFORMERS]: xFormers can't load C++/CUDA extensions. xFormers was built for:\n",
      "    PyTorch 2.1.0+cu118 with CUDA 1108 (you have 2.3.1+cu121)\n",
      "    Python  3.10.11 (you have 3.10.7)\n",
      "  Please reinstall xformers (see https://github.com/facebookresearch/xformers#installing-xformers)\n",
      "  Memory-efficient attention, SwiGLU, sparse and more won't be available.\n",
      "  Set XFORMERS_MORE_DETAILS=1 for more details\n",
      "2024-07-24 13:42:01 | WARNING | xformers | A matching Triton is not available, some optimizations will not be enabled.\n",
      "Error caught was: No module named 'triton'\n",
      "2024-07-24 13:42:01 | WARNING | xformers | Triton is not available, some optimizations will not be enabled.\n",
      "This is just a warning: triton is not available\n"
     ]
    },
    {
     "name": "stdout",
     "output_type": "stream",
     "text": [
      "[['D:\\\\\\\\Code\\\\\\\\Retrieval-based-Voice-Conversion-WebUI/logs/Luna Singing v2/0_gt_wavs/0_17.wav', 'D:\\\\\\\\Code\\\\\\\\Retrieval-based-Voice-Conversion-WebUI/logs/Luna Singing v2/3_feature768/0_17.npy', 'D:\\\\\\\\Code\\\\\\\\Retrieval-based-Voice-Conversion-WebUI/logs/Luna Singing v2/2a_f0/0_17.wav.npy', 'D:\\\\\\\\Code\\\\\\\\Retrieval-based-Voice-Conversion-WebUI/logs/Luna Singing v2/2b-f0nsf/0_17.wav.npy', '0'], ['D:\\\\Code\\\\Retrieval-based-Voice-Conversion-WebUI/logs/mute/0_gt_wavs/mute48k.wav', 'D:\\\\Code\\\\Retrieval-based-Voice-Conversion-WebUI/logs/mute/3_feature768/mute.npy', 'D:\\\\Code\\\\Retrieval-based-Voice-Conversion-WebUI/logs/mute/2a_f0/mute.wav.npy', 'D:\\\\Code\\\\Retrieval-based-Voice-Conversion-WebUI/logs/mute/2b-f0nsf/mute.wav.npy', '0'], ['D:\\\\\\\\Code\\\\\\\\Retrieval-based-Voice-Conversion-WebUI/logs/Luna Singing v2/0_gt_wavs/0_31.wav', 'D:\\\\\\\\Code\\\\\\\\Retrieval-based-Voice-Conversion-WebUI/logs/Luna Singing v2/3_feature768/0_31.npy', 'D:\\\\\\\\Code\\\\\\\\Retrieval-based-Voice-Conversion-WebUI/logs/Luna Singing v2/2a_f0/0_31.wav.npy', 'D:\\\\\\\\Code\\\\\\\\Retrieval-based-Voice-Conversion-WebUI/logs/Luna Singing v2/2b-f0nsf/0_31.wav.npy', '0'], ['D:\\\\\\\\Code\\\\\\\\Retrieval-based-Voice-Conversion-WebUI/logs/Luna Singing v2/0_gt_wavs/0_33.wav', 'D:\\\\\\\\Code\\\\\\\\Retrieval-based-Voice-Conversion-WebUI/logs/Luna Singing v2/3_feature768/0_33.npy', 'D:\\\\\\\\Code\\\\\\\\Retrieval-based-Voice-Conversion-WebUI/logs/Luna Singing v2/2a_f0/0_33.wav.npy', 'D:\\\\\\\\Code\\\\\\\\Retrieval-based-Voice-Conversion-WebUI/logs/Luna Singing v2/2b-f0nsf/0_33.wav.npy', '0'], ['D:\\\\\\\\Code\\\\\\\\Retrieval-based-Voice-Conversion-WebUI/logs/Luna Singing v2/0_gt_wavs/0_28.wav', 'D:\\\\\\\\Code\\\\\\\\Retrieval-based-Voice-Conversion-WebUI/logs/Luna Singing v2/3_feature768/0_28.npy', 'D:\\\\\\\\Code\\\\\\\\Retrieval-based-Voice-Conversion-WebUI/logs/Luna Singing v2/2a_f0/0_28.wav.npy', 'D:\\\\\\\\Code\\\\\\\\Retrieval-based-Voice-Conversion-WebUI/logs/Luna Singing v2/2b-f0nsf/0_28.wav.npy', '0'], ['D:\\\\\\\\Code\\\\\\\\Retrieval-based-Voice-Conversion-WebUI/logs/Luna Singing v2/0_gt_wavs/0_36.wav', 'D:\\\\\\\\Code\\\\\\\\Retrieval-based-Voice-Conversion-WebUI/logs/Luna Singing v2/3_feature768/0_36.npy', 'D:\\\\\\\\Code\\\\\\\\Retrieval-based-Voice-Conversion-WebUI/logs/Luna Singing v2/2a_f0/0_36.wav.npy', 'D:\\\\\\\\Code\\\\\\\\Retrieval-based-Voice-Conversion-WebUI/logs/Luna Singing v2/2b-f0nsf/0_36.wav.npy', '0'], ['D:\\\\\\\\Code\\\\\\\\Retrieval-based-Voice-Conversion-WebUI/logs/Luna Singing v2/0_gt_wavs/0_20.wav', 'D:\\\\\\\\Code\\\\\\\\Retrieval-based-Voice-Conversion-WebUI/logs/Luna Singing v2/3_feature768/0_20.npy', 'D:\\\\\\\\Code\\\\\\\\Retrieval-based-Voice-Conversion-WebUI/logs/Luna Singing v2/2a_f0/0_20.wav.npy', 'D:\\\\\\\\Code\\\\\\\\Retrieval-based-Voice-Conversion-WebUI/logs/Luna Singing v2/2b-f0nsf/0_20.wav.npy', '0'], ['D:\\\\\\\\Code\\\\\\\\Retrieval-based-Voice-Conversion-WebUI/logs/Luna Singing v2/0_gt_wavs/0_41.wav', 'D:\\\\\\\\Code\\\\\\\\Retrieval-based-Voice-Conversion-WebUI/logs/Luna Singing v2/3_feature768/0_41.npy', 'D:\\\\\\\\Code\\\\\\\\Retrieval-based-Voice-Conversion-WebUI/logs/Luna Singing v2/2a_f0/0_41.wav.npy', 'D:\\\\\\\\Code\\\\\\\\Retrieval-based-Voice-Conversion-WebUI/logs/Luna Singing v2/2b-f0nsf/0_41.wav.npy', '0'], ['D:\\\\\\\\Code\\\\\\\\Retrieval-based-Voice-Conversion-WebUI/logs/Luna Singing v2/0_gt_wavs/0_11.wav', 'D:\\\\\\\\Code\\\\\\\\Retrieval-based-Voice-Conversion-WebUI/logs/Luna Singing v2/3_feature768/0_11.npy', 'D:\\\\\\\\Code\\\\\\\\Retrieval-based-Voice-Conversion-WebUI/logs/Luna Singing v2/2a_f0/0_11.wav.npy', 'D:\\\\\\\\Code\\\\\\\\Retrieval-based-Voice-Conversion-WebUI/logs/Luna Singing v2/2b-f0nsf/0_11.wav.npy', '0'], ['D:\\\\\\\\Code\\\\\\\\Retrieval-based-Voice-Conversion-WebUI/logs/Luna Singing v2/0_gt_wavs/0_8.wav', 'D:\\\\\\\\Code\\\\\\\\Retrieval-based-Voice-Conversion-WebUI/logs/Luna Singing v2/3_feature768/0_8.npy', 'D:\\\\\\\\Code\\\\\\\\Retrieval-based-Voice-Conversion-WebUI/logs/Luna Singing v2/2a_f0/0_8.wav.npy', 'D:\\\\\\\\Code\\\\\\\\Retrieval-based-Voice-Conversion-WebUI/logs/Luna Singing v2/2b-f0nsf/0_8.wav.npy', '0'], ['D:\\\\\\\\Code\\\\\\\\Retrieval-based-Voice-Conversion-WebUI/logs/Luna Singing v2/0_gt_wavs/0_29.wav', 'D:\\\\\\\\Code\\\\\\\\Retrieval-based-Voice-Conversion-WebUI/logs/Luna Singing v2/3_feature768/0_29.npy', 'D:\\\\\\\\Code\\\\\\\\Retrieval-based-Voice-Conversion-WebUI/logs/Luna Singing v2/2a_f0/0_29.wav.npy', 'D:\\\\\\\\Code\\\\\\\\Retrieval-based-Voice-Conversion-WebUI/logs/Luna Singing v2/2b-f0nsf/0_29.wav.npy', '0'], ['D:\\\\\\\\Code\\\\\\\\Retrieval-based-Voice-Conversion-WebUI/logs/Luna Singing v2/0_gt_wavs/0_40.wav', 'D:\\\\\\\\Code\\\\\\\\Retrieval-based-Voice-Conversion-WebUI/logs/Luna Singing v2/3_feature768/0_40.npy', 'D:\\\\\\\\Code\\\\\\\\Retrieval-based-Voice-Conversion-WebUI/logs/Luna Singing v2/2a_f0/0_40.wav.npy', 'D:\\\\\\\\Code\\\\\\\\Retrieval-based-Voice-Conversion-WebUI/logs/Luna Singing v2/2b-f0nsf/0_40.wav.npy', '0'], ['D:\\\\Code\\\\Retrieval-based-Voice-Conversion-WebUI/logs/mute/0_gt_wavs/mute48k.wav', 'D:\\\\Code\\\\Retrieval-based-Voice-Conversion-WebUI/logs/mute/3_feature768/mute.npy', 'D:\\\\Code\\\\Retrieval-based-Voice-Conversion-WebUI/logs/mute/2a_f0/mute.wav.npy', 'D:\\\\Code\\\\Retrieval-based-Voice-Conversion-WebUI/logs/mute/2b-f0nsf/mute.wav.npy', '0'], ['D:\\\\\\\\Code\\\\\\\\Retrieval-based-Voice-Conversion-WebUI/logs/Luna Singing v2/0_gt_wavs/0_2.wav', 'D:\\\\\\\\Code\\\\\\\\Retrieval-based-Voice-Conversion-WebUI/logs/Luna Singing v2/3_feature768/0_2.npy', 'D:\\\\\\\\Code\\\\\\\\Retrieval-based-Voice-Conversion-WebUI/logs/Luna Singing v2/2a_f0/0_2.wav.npy', 'D:\\\\\\\\Code\\\\\\\\Retrieval-based-Voice-Conversion-WebUI/logs/Luna Singing v2/2b-f0nsf/0_2.wav.npy', '0'], ['D:\\\\\\\\Code\\\\\\\\Retrieval-based-Voice-Conversion-WebUI/logs/Luna Singing v2/0_gt_wavs/0_30.wav', 'D:\\\\\\\\Code\\\\\\\\Retrieval-based-Voice-Conversion-WebUI/logs/Luna Singing v2/3_feature768/0_30.npy', 'D:\\\\\\\\Code\\\\\\\\Retrieval-based-Voice-Conversion-WebUI/logs/Luna Singing v2/2a_f0/0_30.wav.npy', 'D:\\\\\\\\Code\\\\\\\\Retrieval-based-Voice-Conversion-WebUI/logs/Luna Singing v2/2b-f0nsf/0_30.wav.npy', '0'], ['D:\\\\\\\\Code\\\\\\\\Retrieval-based-Voice-Conversion-WebUI/logs/Luna Singing v2/0_gt_wavs/0_14.wav', 'D:\\\\\\\\Code\\\\\\\\Retrieval-based-Voice-Conversion-WebUI/logs/Luna Singing v2/3_feature768/0_14.npy', 'D:\\\\\\\\Code\\\\\\\\Retrieval-based-Voice-Conversion-WebUI/logs/Luna Singing v2/2a_f0/0_14.wav.npy', 'D:\\\\\\\\Code\\\\\\\\Retrieval-based-Voice-Conversion-WebUI/logs/Luna Singing v2/2b-f0nsf/0_14.wav.npy', '0'], ['D:\\\\\\\\Code\\\\\\\\Retrieval-based-Voice-Conversion-WebUI/logs/Luna Singing v2/0_gt_wavs/0_0.wav', 'D:\\\\\\\\Code\\\\\\\\Retrieval-based-Voice-Conversion-WebUI/logs/Luna Singing v2/3_feature768/0_0.npy', 'D:\\\\\\\\Code\\\\\\\\Retrieval-based-Voice-Conversion-WebUI/logs/Luna Singing v2/2a_f0/0_0.wav.npy', 'D:\\\\\\\\Code\\\\\\\\Retrieval-based-Voice-Conversion-WebUI/logs/Luna Singing v2/2b-f0nsf/0_0.wav.npy', '0'], ['D:\\\\\\\\Code\\\\\\\\Retrieval-based-Voice-Conversion-WebUI/logs/Luna Singing v2/0_gt_wavs/0_13.wav', 'D:\\\\\\\\Code\\\\\\\\Retrieval-based-Voice-Conversion-WebUI/logs/Luna Singing v2/3_feature768/0_13.npy', 'D:\\\\\\\\Code\\\\\\\\Retrieval-based-Voice-Conversion-WebUI/logs/Luna Singing v2/2a_f0/0_13.wav.npy', 'D:\\\\\\\\Code\\\\\\\\Retrieval-based-Voice-Conversion-WebUI/logs/Luna Singing v2/2b-f0nsf/0_13.wav.npy', '0'], ['D:\\\\\\\\Code\\\\\\\\Retrieval-based-Voice-Conversion-WebUI/logs/Luna Singing v2/0_gt_wavs/0_24.wav', 'D:\\\\\\\\Code\\\\\\\\Retrieval-based-Voice-Conversion-WebUI/logs/Luna Singing v2/3_feature768/0_24.npy', 'D:\\\\\\\\Code\\\\\\\\Retrieval-based-Voice-Conversion-WebUI/logs/Luna Singing v2/2a_f0/0_24.wav.npy', 'D:\\\\\\\\Code\\\\\\\\Retrieval-based-Voice-Conversion-WebUI/logs/Luna Singing v2/2b-f0nsf/0_24.wav.npy', '0'], ['D:\\\\\\\\Code\\\\\\\\Retrieval-based-Voice-Conversion-WebUI/logs/Luna Singing v2/0_gt_wavs/0_22.wav', 'D:\\\\\\\\Code\\\\\\\\Retrieval-based-Voice-Conversion-WebUI/logs/Luna Singing v2/3_feature768/0_22.npy', 'D:\\\\\\\\Code\\\\\\\\Retrieval-based-Voice-Conversion-WebUI/logs/Luna Singing v2/2a_f0/0_22.wav.npy', 'D:\\\\\\\\Code\\\\\\\\Retrieval-based-Voice-Conversion-WebUI/logs/Luna Singing v2/2b-f0nsf/0_22.wav.npy', '0'], ['D:\\\\\\\\Code\\\\\\\\Retrieval-based-Voice-Conversion-WebUI/logs/Luna Singing v2/0_gt_wavs/0_10.wav', 'D:\\\\\\\\Code\\\\\\\\Retrieval-based-Voice-Conversion-WebUI/logs/Luna Singing v2/3_feature768/0_10.npy', 'D:\\\\\\\\Code\\\\\\\\Retrieval-based-Voice-Conversion-WebUI/logs/Luna Singing v2/2a_f0/0_10.wav.npy', 'D:\\\\\\\\Code\\\\\\\\Retrieval-based-Voice-Conversion-WebUI/logs/Luna Singing v2/2b-f0nsf/0_10.wav.npy', '0'], ['D:\\\\\\\\Code\\\\\\\\Retrieval-based-Voice-Conversion-WebUI/logs/Luna Singing v2/0_gt_wavs/0_4.wav', 'D:\\\\\\\\Code\\\\\\\\Retrieval-based-Voice-Conversion-WebUI/logs/Luna Singing v2/3_feature768/0_4.npy', 'D:\\\\\\\\Code\\\\\\\\Retrieval-based-Voice-Conversion-WebUI/logs/Luna Singing v2/2a_f0/0_4.wav.npy', 'D:\\\\\\\\Code\\\\\\\\Retrieval-based-Voice-Conversion-WebUI/logs/Luna Singing v2/2b-f0nsf/0_4.wav.npy', '0'], ['D:\\\\\\\\Code\\\\\\\\Retrieval-based-Voice-Conversion-WebUI/logs/Luna Singing v2/0_gt_wavs/0_26.wav', 'D:\\\\\\\\Code\\\\\\\\Retrieval-based-Voice-Conversion-WebUI/logs/Luna Singing v2/3_feature768/0_26.npy', 'D:\\\\\\\\Code\\\\\\\\Retrieval-based-Voice-Conversion-WebUI/logs/Luna Singing v2/2a_f0/0_26.wav.npy', 'D:\\\\\\\\Code\\\\\\\\Retrieval-based-Voice-Conversion-WebUI/logs/Luna Singing v2/2b-f0nsf/0_26.wav.npy', '0'], ['D:\\\\\\\\Code\\\\\\\\Retrieval-based-Voice-Conversion-WebUI/logs/Luna Singing v2/0_gt_wavs/0_19.wav', 'D:\\\\\\\\Code\\\\\\\\Retrieval-based-Voice-Conversion-WebUI/logs/Luna Singing v2/3_feature768/0_19.npy', 'D:\\\\\\\\Code\\\\\\\\Retrieval-based-Voice-Conversion-WebUI/logs/Luna Singing v2/2a_f0/0_19.wav.npy', 'D:\\\\\\\\Code\\\\\\\\Retrieval-based-Voice-Conversion-WebUI/logs/Luna Singing v2/2b-f0nsf/0_19.wav.npy', '0'], ['D:\\\\\\\\Code\\\\\\\\Retrieval-based-Voice-Conversion-WebUI/logs/Luna Singing v2/0_gt_wavs/0_25.wav', 'D:\\\\\\\\Code\\\\\\\\Retrieval-based-Voice-Conversion-WebUI/logs/Luna Singing v2/3_feature768/0_25.npy', 'D:\\\\\\\\Code\\\\\\\\Retrieval-based-Voice-Conversion-WebUI/logs/Luna Singing v2/2a_f0/0_25.wav.npy', 'D:\\\\\\\\Code\\\\\\\\Retrieval-based-Voice-Conversion-WebUI/logs/Luna Singing v2/2b-f0nsf/0_25.wav.npy', '0'], ['D:\\\\\\\\Code\\\\\\\\Retrieval-based-Voice-Conversion-WebUI/logs/Luna Singing v2/0_gt_wavs/0_6.wav', 'D:\\\\\\\\Code\\\\\\\\Retrieval-based-Voice-Conversion-WebUI/logs/Luna Singing v2/3_feature768/0_6.npy', 'D:\\\\\\\\Code\\\\\\\\Retrieval-based-Voice-Conversion-WebUI/logs/Luna Singing v2/2a_f0/0_6.wav.npy', 'D:\\\\\\\\Code\\\\\\\\Retrieval-based-Voice-Conversion-WebUI/logs/Luna Singing v2/2b-f0nsf/0_6.wav.npy', '0'], ['D:\\\\\\\\Code\\\\\\\\Retrieval-based-Voice-Conversion-WebUI/logs/Luna Singing v2/0_gt_wavs/0_38.wav', 'D:\\\\\\\\Code\\\\\\\\Retrieval-based-Voice-Conversion-WebUI/logs/Luna Singing v2/3_feature768/0_38.npy', 'D:\\\\\\\\Code\\\\\\\\Retrieval-based-Voice-Conversion-WebUI/logs/Luna Singing v2/2a_f0/0_38.wav.npy', 'D:\\\\\\\\Code\\\\\\\\Retrieval-based-Voice-Conversion-WebUI/logs/Luna Singing v2/2b-f0nsf/0_38.wav.npy', '0'], ['D:\\\\\\\\Code\\\\\\\\Retrieval-based-Voice-Conversion-WebUI/logs/Luna Singing v2/0_gt_wavs/0_34.wav', 'D:\\\\\\\\Code\\\\\\\\Retrieval-based-Voice-Conversion-WebUI/logs/Luna Singing v2/3_feature768/0_34.npy', 'D:\\\\\\\\Code\\\\\\\\Retrieval-based-Voice-Conversion-WebUI/logs/Luna Singing v2/2a_f0/0_34.wav.npy', 'D:\\\\\\\\Code\\\\\\\\Retrieval-based-Voice-Conversion-WebUI/logs/Luna Singing v2/2b-f0nsf/0_34.wav.npy', '0'], ['D:\\\\\\\\Code\\\\\\\\Retrieval-based-Voice-Conversion-WebUI/logs/Luna Singing v2/0_gt_wavs/0_23.wav', 'D:\\\\\\\\Code\\\\\\\\Retrieval-based-Voice-Conversion-WebUI/logs/Luna Singing v2/3_feature768/0_23.npy', 'D:\\\\\\\\Code\\\\\\\\Retrieval-based-Voice-Conversion-WebUI/logs/Luna Singing v2/2a_f0/0_23.wav.npy', 'D:\\\\\\\\Code\\\\\\\\Retrieval-based-Voice-Conversion-WebUI/logs/Luna Singing v2/2b-f0nsf/0_23.wav.npy', '0'], ['D:\\\\\\\\Code\\\\\\\\Retrieval-based-Voice-Conversion-WebUI/logs/Luna Singing v2/0_gt_wavs/0_16.wav', 'D:\\\\\\\\Code\\\\\\\\Retrieval-based-Voice-Conversion-WebUI/logs/Luna Singing v2/3_feature768/0_16.npy', 'D:\\\\\\\\Code\\\\\\\\Retrieval-based-Voice-Conversion-WebUI/logs/Luna Singing v2/2a_f0/0_16.wav.npy', 'D:\\\\\\\\Code\\\\\\\\Retrieval-based-Voice-Conversion-WebUI/logs/Luna Singing v2/2b-f0nsf/0_16.wav.npy', '0']]\n",
      "> \u001b[1;32mc:\\users\\vul\\appdata\\local\\programs\\python\\python310\\lib\\site-packages\\svc_helper\\svc\\rvc\\lib\\train\\data_utils.py\u001b[0m(191)\u001b[0;36m__call__\u001b[1;34m()\u001b[0m\n",
      "\u001b[1;32m    189 \u001b[1;33m        \u001b[0mpdb\u001b[0m\u001b[1;33m.\u001b[0m\u001b[0mset_trace\u001b[0m\u001b[1;33m(\u001b[0m\u001b[1;33m)\u001b[0m\u001b[1;33m\u001b[0m\u001b[1;33m\u001b[0m\u001b[0m\n",
      "\u001b[0m\u001b[1;32m    190 \u001b[1;33m\u001b[1;33m\u001b[0m\u001b[0m\n",
      "\u001b[0m\u001b[1;32m--> 191 \u001b[1;33m        \u001b[1;32mfor\u001b[0m \u001b[0mi\u001b[0m \u001b[1;32min\u001b[0m \u001b[0mrange\u001b[0m\u001b[1;33m(\u001b[0m\u001b[0mlen\u001b[0m\u001b[1;33m(\u001b[0m\u001b[0mids_sorted_decreasing\u001b[0m\u001b[1;33m)\u001b[0m\u001b[1;33m)\u001b[0m\u001b[1;33m:\u001b[0m\u001b[1;33m\u001b[0m\u001b[1;33m\u001b[0m\u001b[0m\n",
      "\u001b[0m\u001b[1;32m    192 \u001b[1;33m            \u001b[0mrow\u001b[0m \u001b[1;33m=\u001b[0m \u001b[0mbatch\u001b[0m\u001b[1;33m[\u001b[0m\u001b[0mids_sorted_decreasing\u001b[0m\u001b[1;33m[\u001b[0m\u001b[0mi\u001b[0m\u001b[1;33m]\u001b[0m\u001b[1;33m]\u001b[0m\u001b[1;33m\u001b[0m\u001b[1;33m\u001b[0m\u001b[0m\n",
      "\u001b[0m\u001b[1;32m    193 \u001b[1;33m\u001b[1;33m\u001b[0m\u001b[0m\n",
      "\u001b[0m\n",
      "torch.Size([4, 298, 768])\n",
      "*** TypeError: 'torch.Size' object is not callable\n",
      "torch.Size([298, 768])\n",
      "*** TypeError: 'torch.Size' object is not callable\n",
      "*** TypeError: 'torch.Size' object is not callable\n",
      "torch.Size([298, 768])\n",
      "tensor([[-0.0396, -0.2255,  0.0695,  ..., -0.1569,  0.0581, -0.2886],\n",
      "        [-0.0396, -0.2255,  0.0695,  ..., -0.1569,  0.0581, -0.2886],\n",
      "        [-0.0554, -0.2250,  0.0839,  ..., -0.1583,  0.0565, -0.3003],\n",
      "        ...,\n",
      "        [ 0.0668, -0.2466,  0.0780,  ..., -0.0100,  0.0511, -0.1575],\n",
      "        [ 0.0453, -0.1522, -0.0836,  ..., -0.1862, -0.0348, -0.3428],\n",
      "        [ 0.0453, -0.1522, -0.0836,  ..., -0.1862, -0.0348, -0.3428]])\n",
      "tensor([[-0.0985, -0.1354,  0.0542,  ..., -0.1866,  0.0056, -0.2827],\n",
      "        [-0.0985, -0.1354,  0.0542,  ..., -0.1866,  0.0056, -0.2827],\n",
      "        [-0.0540, -0.1554,  0.1073,  ..., -0.0041,  0.1117, -0.0387],\n",
      "        ...,\n",
      "        [ 0.0731, -0.3489, -0.0434,  ..., -0.0844,  0.1209, -0.2487],\n",
      "        [ 0.0238, -0.0161, -0.1355,  ..., -0.0657,  0.0030, -0.2145],\n",
      "        [ 0.0238, -0.0161, -0.1355,  ..., -0.0657,  0.0030, -0.2145]])\n",
      "torch.Size([298, 768])\n",
      "torch.Size([298, 768])\n",
      "torch.Size([298, 768])\n",
      "torch.Size([298, 768])\n",
      "*** TypeError: 'torch.Size' object is not callable\n",
      "*** TypeError: 'torch.Size' object is not callable\n",
      "*** TypeError: 'torch.Size' object is not callable\n"
     ]
    }
   ],
   "source": [
    "from svc_helper.svc.rvc.lib.train.data_utils import (TextAudioLoaderMultiNSFsid,\n",
    "    TextAudioCollateMultiNSFsid)\n",
    "filelist = r\"D:\\Code\\Retrieval-based-Voice-Conversion-WebUI\\logs\\Luna Singing v2\\filelist.txt\"\n",
    "\n",
    "class HParams:\n",
    "    def __init__(self, **kwargs):\n",
    "        for k, v in kwargs.items():\n",
    "            if type(v) == dict:\n",
    "                v = HParams(**v)\n",
    "            self[k] = v\n",
    "\n",
    "    def keys(self):\n",
    "        return self.__dict__.keys()\n",
    "\n",
    "    def items(self):\n",
    "        return self.__dict__.items()\n",
    "\n",
    "    def values(self):\n",
    "        return self.__dict__.values()\n",
    "\n",
    "    def __len__(self):\n",
    "        return len(self.__dict__)\n",
    "\n",
    "    def __getitem__(self, key):\n",
    "        return getattr(self, key)\n",
    "\n",
    "    def __setitem__(self, key, value):\n",
    "        return setattr(self, key, value)\n",
    "\n",
    "    def __contains__(self, key):\n",
    "        return key in self.__dict__\n",
    "\n",
    "    def __repr__(self):\n",
    "        return self.__dict__.__repr__()\n",
    "\n",
    "train_dataset = TextAudioLoaderMultiNSFsid(\n",
    "    audiopaths_and_text=filelist,\n",
    "    hparams=HParams(\n",
    "        max_wav_value=32768.0,\n",
    "        sampling_rate=48000,\n",
    "        filter_length=2048,\n",
    "        hop_length=480,\n",
    "        win_length=2048,\n",
    "    )\n",
    ")\n",
    "collate_fn = TextAudioCollateMultiNSFsid()\n",
    "from torch.utils.data import DataLoader\n",
    "train_loader = DataLoader(\n",
    "    train_dataset,\n",
    "    num_workers=0,\n",
    "    shuffle=False,\n",
    "    pin_memory=True,\n",
    "    collate_fn=collate_fn,\n",
    "    batch_size=4\n",
    ")\n",
    "\n",
    "for batch in train_loader:\n",
    "    print(batch)\n",
    "#    pass"
   ]
  },
  {
   "cell_type": "code",
   "execution_count": null,
   "metadata": {},
   "outputs": [],
   "source": []
  }
 ],
 "metadata": {
  "kernelspec": {
   "display_name": "Python 3",
   "language": "python",
   "name": "python3"
  },
  "language_info": {
   "codemirror_mode": {
    "name": "ipython",
    "version": 3
   },
   "file_extension": ".py",
   "mimetype": "text/x-python",
   "name": "python",
   "nbconvert_exporter": "python",
   "pygments_lexer": "ipython3",
   "version": "3.10.7"
  }
 },
 "nbformat": 4,
 "nbformat_minor": 2
}
