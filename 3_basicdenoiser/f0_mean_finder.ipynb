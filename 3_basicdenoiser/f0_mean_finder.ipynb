{
 "cells": [
  {
   "cell_type": "code",
   "execution_count": 1,
   "metadata": {
    "metadata": {}
   },
   "outputs": [
    {
     "data": {
      "application/vnd.jupyter.widget-view+json": {
       "model_id": "b63fbd6aa11741c0830711b9d55c83cb",
       "version_major": 2,
       "version_minor": 0
      },
      "text/plain": [
       "Resolving data files:   0%|          | 0/31 [00:00<?, ?it/s]"
      ]
     },
     "metadata": {},
     "output_type": "display_data"
    },
    {
     "data": {
      "application/vnd.jupyter.widget-view+json": {
       "model_id": "9e0b02dc54584a31ba7ea08e58289e15",
       "version_major": 2,
       "version_minor": 0
      },
      "text/plain": [
       "Resolving data files:   0%|          | 0/31 [00:00<?, ?it/s]"
      ]
     },
     "metadata": {},
     "output_type": "display_data"
    },
    {
     "data": {
      "application/vnd.jupyter.widget-view+json": {
       "model_id": "612810347c7f4c3cadfc201973b28dcf",
       "version_major": 2,
       "version_minor": 0
      },
      "text/plain": [
       "Loading dataset shards:   0%|          | 0/30 [00:00<?, ?it/s]"
      ]
     },
     "metadata": {},
     "output_type": "display_data"
    }
   ],
   "source": [
    "from datasets import load_dataset, Audio\n",
    "dataset = load_dataset(\"synthbot/pony-speech\")"
   ]
  },
  {
   "cell_type": "code",
   "execution_count": 2,
   "metadata": {
    "metadata": {}
   },
   "outputs": [
    {
     "name": "stdout",
     "output_type": "stream",
     "text": [
      "RVC_RMVPE_PATH: D:\\hf_cache\\hub\\models--therealvul--svc_helper\\snapshots\\b1a77cd33e055a661ee1c81ffff6a59178a7419b\\rvc_rmvpe.pt\n"
     ]
    }
   ],
   "source": [
    "from svc_helper.pitch.rmvpe import RMVPEModel\n",
    "import numpy as np\n",
    "import librosa\n",
    "\n",
    "rmvpe_model = RMVPEModel(device='cuda')\n",
    "\n",
    "def avg_pitch(entry):\n",
    "    audio_entry = entry['audio']\n",
    "    audio = audio_entry['array']\n",
    "    resampled = librosa.resample(audio,\n",
    "        orig_sr=audio_entry['sampling_rate'],\n",
    "        target_sr=RMVPEModel.expected_sample_rate)\n",
    "    pitch = rmvpe_model.extract_pitch(resampled)\n",
    "    entry['f0_mean'] = pitch[pitch != 0].mean()\n",
    "    return entry"
   ]
  },
  {
   "cell_type": "code",
   "execution_count": 10,
   "metadata": {
    "metadata": {}
   },
   "outputs": [
    {
     "data": {
      "application/vnd.jupyter.widget-view+json": {
       "model_id": "918860bcae8f4412a55ba23732b5bcec",
       "version_major": 2,
       "version_minor": 0
      },
      "text/plain": [
       "Filter (num_proc=12):   0%|          | 0/64659 [00:00<?, ? examples/s]"
      ]
     },
     "metadata": {},
     "output_type": "display_data"
    },
    {
     "data": {
      "application/vnd.jupyter.widget-view+json": {
       "model_id": "6113301d19b1446d806702877d469c7f",
       "version_major": 2,
       "version_minor": 0
      },
      "text/plain": [
       "Map:   0%|          | 0/5533 [00:00<?, ? examples/s]"
      ]
     },
     "metadata": {},
     "output_type": "display_data"
    },
    {
     "name": "stderr",
     "output_type": "stream",
     "text": [
      "C:\\Users\\vul\\AppData\\Local\\Temp\\ipykernel_29408\\2948678516.py:14: RuntimeWarning: Mean of empty slice.\n",
      "  entry['f0_mean'] = pitch[pitch != 0].mean()\n",
      "c:\\Users\\vul\\AppData\\Local\\Programs\\Python\\Python310\\lib\\site-packages\\numpy\\core\\_methods.py:190: RuntimeWarning: invalid value encountered in double_scalars\n",
      "  ret = ret.dtype.type(ret / rcount)\n"
     ]
    },
    {
     "data": {
      "text/plain": [
       "412.24502967803943"
      ]
     },
     "execution_count": 10,
     "metadata": {},
     "output_type": "execute_result"
    }
   ],
   "source": [
    "#f0_means = dataset['train'].select(range(10)).map(avg_pitch)\n",
    "f0_means = dataset['train'].filter(lambda ex: ex['speaker'] == 'Rainbow Dash',\n",
    "    num_proc=12).map(avg_pitch)\n",
    "import numpy as np\n",
    "np.nanmean(np.array(f0_means['f0_mean']))"
   ]
  }
 ],
 "metadata": {
  "kernelspec": {
   "display_name": "Python 3",
   "language": "python",
   "name": "python3"
  },
  "language_info": {
   "codemirror_mode": {
    "name": "ipython",
    "version": 3
   },
   "file_extension": ".py",
   "mimetype": "text/x-python",
   "name": "python",
   "nbconvert_exporter": "python",
   "pygments_lexer": "ipython3",
   "version": "3.10.7"
  }
 },
 "nbformat": 4,
 "nbformat_minor": 2
}
